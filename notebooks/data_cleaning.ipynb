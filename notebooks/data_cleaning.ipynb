{
 "cells": [
  {
   "cell_type": "code",
   "execution_count": 14,
   "metadata": {},
   "outputs": [
    {
     "name": "stdout",
     "output_type": "stream",
     "text": [
      "<data_cleaning_class.dataCleaning object at 0x000001F1E19BA5D0>\n"
     ]
    }
   ],
   "source": [
    "import pandas as pd\n",
    "import os\n",
    "import sys\n",
    "sys.path.append(os.path.abspath(\"../src\"))\n",
    "\n",
    "from data_cleaning_class import dataCleaning\n",
    "df_chem = pd.read_csv(\"C:\\\\Users\\\\Aman\\\\Desktop\\\\week7\\\\data\\\\chemed123_messages.csv\")\n",
    "# df_doctor = pd.read_csv(\"C:\\\\Users\\\\Aman\\\\Desktop\\\\week7\\\\data\\\\doctorset_messages.csv\")\n",
    "df_chem = dataCleaning(df_chem)\n",
    "# df_doctor = dataCleaning(df_doctor)\n",
    "\n",
    "\n",
    "print(df_chem)\n"
   ]
  },
  {
   "cell_type": "code",
   "execution_count": 6,
   "metadata": {},
   "outputs": [
    {
     "name": "stdout",
     "output_type": "stream",
     "text": [
      "c:\\Users\\Aman\\Desktop\\week7\\src\\data_cleaning_class.py\n",
      "True\n"
     ]
    }
   ],
   "source": []
  }
 ],
 "metadata": {
  "kernelspec": {
   "display_name": ".venv",
   "language": "python",
   "name": "python3"
  },
  "language_info": {
   "codemirror_mode": {
    "name": "ipython",
    "version": 3
   },
   "file_extension": ".py",
   "mimetype": "text/x-python",
   "name": "python",
   "nbconvert_exporter": "python",
   "pygments_lexer": "ipython3",
   "version": "3.11.9"
  }
 },
 "nbformat": 4,
 "nbformat_minor": 2
}
