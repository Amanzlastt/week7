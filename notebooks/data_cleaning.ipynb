{
 "cells": [
  {
   "cell_type": "code",
   "execution_count": 13,
   "metadata": {},
   "outputs": [
    {
     "ename": "AttributeError",
     "evalue": "'dataCleaning' object has no attribute 'head'",
     "output_type": "error",
     "traceback": [
      "\u001b[1;31m---------------------------------------------------------------------------\u001b[0m",
      "\u001b[1;31mAttributeError\u001b[0m                            Traceback (most recent call last)",
      "Cell \u001b[1;32mIn[13], line 13\u001b[0m\n\u001b[0;32m      9\u001b[0m df_chem \u001b[38;5;241m=\u001b[39m dataCleaning(df_chem)\n\u001b[0;32m     10\u001b[0m \u001b[38;5;66;03m# df_doctor = dataCleaning(df_doctor)\u001b[39;00m\n\u001b[1;32m---> 13\u001b[0m \u001b[38;5;28mprint\u001b[39m(\u001b[43mdf_chem\u001b[49m\u001b[38;5;241;43m.\u001b[39;49m\u001b[43mhead\u001b[49m())\n",
      "\u001b[1;31mAttributeError\u001b[0m: 'dataCleaning' object has no attribute 'head'"
     ]
    }
   ],
   "source": [
    "import pandas as pd\n",
    "import os\n",
    "import sys\n",
    "sys.path.append(os.path.abspath(\"../src\"))\n",
    "\n",
    "from data_cleaning_class import dataCleaning\n",
    "df_chem = pd.read_csv(\"C:\\\\Users\\\\Aman\\\\Desktop\\\\week7\\\\data\\\\chemed123_messages.csv\")\n",
    "# df_doctor = pd.read_csv(\"C:\\\\Users\\\\Aman\\\\Desktop\\\\week7\\\\data\\\\doctorset_messages.csv\")\n",
    "df_chem = dataCleaning(df_chem)\n",
    "# df_doctor = dataCleaning(df_doctor)\n",
    "\n",
    "\n",
    "print(df_chem.head())\n"
   ]
  },
  {
   "cell_type": "code",
   "execution_count": 6,
   "metadata": {},
   "outputs": [
    {
     "name": "stdout",
     "output_type": "stream",
     "text": [
      "c:\\Users\\Aman\\Desktop\\week7\\src\\data_cleaning_class.py\n",
      "True\n"
     ]
    }
   ],
   "source": [
    "import os\n",
    "print(os.path.abspath(\"../src/data_cleaning_class.py\"))\n",
    "print(os.path.isfile(\"../src/data_cleaning_class.py\"))\n"
   ]
  }
 ],
 "metadata": {
  "kernelspec": {
   "display_name": ".venv",
   "language": "python",
   "name": "python3"
  },
  "language_info": {
   "codemirror_mode": {
    "name": "ipython",
    "version": 3
   },
   "file_extension": ".py",
   "mimetype": "text/x-python",
   "name": "python",
   "nbconvert_exporter": "python",
   "pygments_lexer": "ipython3",
   "version": "3.11.9"
  }
 },
 "nbformat": 4,
 "nbformat_minor": 2
}
